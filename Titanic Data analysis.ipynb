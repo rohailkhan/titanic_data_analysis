{
 "cells": [
  {
   "cell_type": "markdown",
   "metadata": {},
   "source": [
    "# بِسْمِ اللَّهِ الرَّحْمَنِ الرَّحِيم\n",
    "\n",
    "# Titanic Survival Data"
   ]
  },
  {
   "cell_type": "markdown",
   "metadata": {},
   "source": [
    "## Data Description\n",
    "(from https://www.kaggle.com/c/titanic)\n",
    "survival: Survival (0 = No; 1 = Yes)\n",
    "pclass: Passenger Class (1 = 1st; 2 = 2nd; 3 = 3rd)\n",
    "name: Name\n",
    "\n",
    "sex: Sex\n",
    "\n",
    "age: Age\n",
    "\n",
    "sibsp: Number of Siblings/Spouses Aboard\n",
    "\n",
    "parch: Number of Parents/Children Aboard\n",
    "\n",
    "ticket: Ticket Number\n",
    "\n",
    "fare: Passenger Fare\n",
    "\n",
    "cabin: Cabin\n",
    "\n",
    "embarked: Port of Embarkation (C = Cherbourg; Q = Queenstown; S = Southampton)\n",
    "\n",
    "**Special Notes:**\n",
    "\n",
    "Pclass is a proxy for socio-economic status (SES)\n",
    "1st ~ Upper; \n",
    "2nd ~ Middle; \n",
    "3rd ~ Lower\n",
    "\n",
    "Age is in Years; Fractional if Age less than One (1)\n",
    "If the Age is Estimated, it is in the form xx.5\n",
    "\n",
    "With respect to the family relation variables (i.e. sibsp and parch) some relations were ignored. The following are the definitions used for sibsp and parch.\n",
    "\n",
    "Sibling: Brother, Sister, Stepbrother, or Stepsister of Passenger Aboard Titanic\n",
    "\n",
    "Spouse: Husband or Wife of Passenger Aboard Titanic (Mistresses and Fiances Ignored)\n",
    "\n",
    "Parent: Mother or Father of Passenger Aboard Titanic\n",
    "\n",
    "Child: Son, Daughter, Stepson, or Stepdaughter of Passenger Aboard Titanic\n",
    "\n",
    "Other family relatives excluded from this study include cousins, nephews/nieces, aunts/uncles, and in-\n",
    "\n",
    "laws. Some children travelled only with a nanny, therefore parch=0 for them. \n",
    "\n",
    "As well, some travelled with very close friends or neighbors in a village, however, the definitions do not support such relations."
   ]
  },
  {
   "cell_type": "code",
   "execution_count": 715,
   "metadata": {
    "collapsed": true
   },
   "outputs": [],
   "source": [
    "%matplotlib inline\n",
    "import numpy as np\n",
    "import pandas as pd\n",
    "import matplotlib.pyplot as plt\n",
    "import seaborn as sns"
   ]
  },
  {
   "cell_type": "code",
   "execution_count": 716,
   "metadata": {
    "scrolled": true
   },
   "outputs": [
    {
     "data": {
      "text/html": [
       "<div>\n",
       "<style>\n",
       "    .dataframe thead tr:only-child th {\n",
       "        text-align: right;\n",
       "    }\n",
       "\n",
       "    .dataframe thead th {\n",
       "        text-align: left;\n",
       "    }\n",
       "\n",
       "    .dataframe tbody tr th {\n",
       "        vertical-align: top;\n",
       "    }\n",
       "</style>\n",
       "<table border=\"1\" class=\"dataframe\">\n",
       "  <thead>\n",
       "    <tr style=\"text-align: right;\">\n",
       "      <th></th>\n",
       "      <th>PassengerId</th>\n",
       "      <th>Survived</th>\n",
       "      <th>Pclass</th>\n",
       "      <th>Name</th>\n",
       "      <th>Sex</th>\n",
       "      <th>Age</th>\n",
       "      <th>SibSp</th>\n",
       "      <th>Parch</th>\n",
       "      <th>Ticket</th>\n",
       "      <th>Fare</th>\n",
       "      <th>Cabin</th>\n",
       "      <th>Embarked</th>\n",
       "    </tr>\n",
       "  </thead>\n",
       "  <tbody>\n",
       "    <tr>\n",
       "      <th>0</th>\n",
       "      <td>1</td>\n",
       "      <td>0</td>\n",
       "      <td>3</td>\n",
       "      <td>Braund, Mr. Owen Harris</td>\n",
       "      <td>male</td>\n",
       "      <td>22.0</td>\n",
       "      <td>1</td>\n",
       "      <td>0</td>\n",
       "      <td>A/5 21171</td>\n",
       "      <td>7.2500</td>\n",
       "      <td>NaN</td>\n",
       "      <td>S</td>\n",
       "    </tr>\n",
       "    <tr>\n",
       "      <th>1</th>\n",
       "      <td>2</td>\n",
       "      <td>1</td>\n",
       "      <td>1</td>\n",
       "      <td>Cumings, Mrs. John Bradley (Florence Briggs Th...</td>\n",
       "      <td>female</td>\n",
       "      <td>38.0</td>\n",
       "      <td>1</td>\n",
       "      <td>0</td>\n",
       "      <td>PC 17599</td>\n",
       "      <td>71.2833</td>\n",
       "      <td>C85</td>\n",
       "      <td>C</td>\n",
       "    </tr>\n",
       "    <tr>\n",
       "      <th>2</th>\n",
       "      <td>3</td>\n",
       "      <td>1</td>\n",
       "      <td>3</td>\n",
       "      <td>Heikkinen, Miss. Laina</td>\n",
       "      <td>female</td>\n",
       "      <td>26.0</td>\n",
       "      <td>0</td>\n",
       "      <td>0</td>\n",
       "      <td>STON/O2. 3101282</td>\n",
       "      <td>7.9250</td>\n",
       "      <td>NaN</td>\n",
       "      <td>S</td>\n",
       "    </tr>\n",
       "    <tr>\n",
       "      <th>3</th>\n",
       "      <td>4</td>\n",
       "      <td>1</td>\n",
       "      <td>1</td>\n",
       "      <td>Futrelle, Mrs. Jacques Heath (Lily May Peel)</td>\n",
       "      <td>female</td>\n",
       "      <td>35.0</td>\n",
       "      <td>1</td>\n",
       "      <td>0</td>\n",
       "      <td>113803</td>\n",
       "      <td>53.1000</td>\n",
       "      <td>C123</td>\n",
       "      <td>S</td>\n",
       "    </tr>\n",
       "    <tr>\n",
       "      <th>4</th>\n",
       "      <td>5</td>\n",
       "      <td>0</td>\n",
       "      <td>3</td>\n",
       "      <td>Allen, Mr. William Henry</td>\n",
       "      <td>male</td>\n",
       "      <td>35.0</td>\n",
       "      <td>0</td>\n",
       "      <td>0</td>\n",
       "      <td>373450</td>\n",
       "      <td>8.0500</td>\n",
       "      <td>NaN</td>\n",
       "      <td>S</td>\n",
       "    </tr>\n",
       "  </tbody>\n",
       "</table>\n",
       "</div>"
      ],
      "text/plain": [
       "   PassengerId  Survived  Pclass  \\\n",
       "0            1         0       3   \n",
       "1            2         1       1   \n",
       "2            3         1       3   \n",
       "3            4         1       1   \n",
       "4            5         0       3   \n",
       "\n",
       "                                                Name     Sex   Age  SibSp  \\\n",
       "0                            Braund, Mr. Owen Harris    male  22.0      1   \n",
       "1  Cumings, Mrs. John Bradley (Florence Briggs Th...  female  38.0      1   \n",
       "2                             Heikkinen, Miss. Laina  female  26.0      0   \n",
       "3       Futrelle, Mrs. Jacques Heath (Lily May Peel)  female  35.0      1   \n",
       "4                           Allen, Mr. William Henry    male  35.0      0   \n",
       "\n",
       "   Parch            Ticket     Fare Cabin Embarked  \n",
       "0      0         A/5 21171   7.2500   NaN        S  \n",
       "1      0          PC 17599  71.2833   C85        C  \n",
       "2      0  STON/O2. 3101282   7.9250   NaN        S  \n",
       "3      0            113803  53.1000  C123        S  \n",
       "4      0            373450   8.0500   NaN        S  "
      ]
     },
     "execution_count": 716,
     "metadata": {},
     "output_type": "execute_result"
    }
   ],
   "source": [
    "titanic=pd.read_csv('titanic-data.csv')\n",
    "titanic.head()"
   ]
  },
  {
   "cell_type": "code",
   "execution_count": 717,
   "metadata": {
    "scrolled": false
   },
   "outputs": [
    {
     "data": {
      "text/html": [
       "<div>\n",
       "<style>\n",
       "    .dataframe thead tr:only-child th {\n",
       "        text-align: right;\n",
       "    }\n",
       "\n",
       "    .dataframe thead th {\n",
       "        text-align: left;\n",
       "    }\n",
       "\n",
       "    .dataframe tbody tr th {\n",
       "        vertical-align: top;\n",
       "    }\n",
       "</style>\n",
       "<table border=\"1\" class=\"dataframe\">\n",
       "  <thead>\n",
       "    <tr style=\"text-align: right;\">\n",
       "      <th></th>\n",
       "      <th>survived</th>\n",
       "      <th>pclass</th>\n",
       "      <th>sex</th>\n",
       "      <th>age</th>\n",
       "      <th>sibsp</th>\n",
       "      <th>parch</th>\n",
       "      <th>fare</th>\n",
       "      <th>embarked</th>\n",
       "      <th>class</th>\n",
       "      <th>who</th>\n",
       "      <th>adult_male</th>\n",
       "      <th>deck</th>\n",
       "      <th>embark_town</th>\n",
       "      <th>alive</th>\n",
       "      <th>alone</th>\n",
       "    </tr>\n",
       "  </thead>\n",
       "  <tbody>\n",
       "    <tr>\n",
       "      <th>0</th>\n",
       "      <td>0</td>\n",
       "      <td>3</td>\n",
       "      <td>male</td>\n",
       "      <td>22.0</td>\n",
       "      <td>1</td>\n",
       "      <td>0</td>\n",
       "      <td>7.2500</td>\n",
       "      <td>S</td>\n",
       "      <td>Third</td>\n",
       "      <td>man</td>\n",
       "      <td>True</td>\n",
       "      <td>NaN</td>\n",
       "      <td>Southampton</td>\n",
       "      <td>no</td>\n",
       "      <td>False</td>\n",
       "    </tr>\n",
       "    <tr>\n",
       "      <th>1</th>\n",
       "      <td>1</td>\n",
       "      <td>1</td>\n",
       "      <td>female</td>\n",
       "      <td>38.0</td>\n",
       "      <td>1</td>\n",
       "      <td>0</td>\n",
       "      <td>71.2833</td>\n",
       "      <td>C</td>\n",
       "      <td>First</td>\n",
       "      <td>woman</td>\n",
       "      <td>False</td>\n",
       "      <td>C</td>\n",
       "      <td>Cherbourg</td>\n",
       "      <td>yes</td>\n",
       "      <td>False</td>\n",
       "    </tr>\n",
       "    <tr>\n",
       "      <th>2</th>\n",
       "      <td>1</td>\n",
       "      <td>3</td>\n",
       "      <td>female</td>\n",
       "      <td>26.0</td>\n",
       "      <td>0</td>\n",
       "      <td>0</td>\n",
       "      <td>7.9250</td>\n",
       "      <td>S</td>\n",
       "      <td>Third</td>\n",
       "      <td>woman</td>\n",
       "      <td>False</td>\n",
       "      <td>NaN</td>\n",
       "      <td>Southampton</td>\n",
       "      <td>yes</td>\n",
       "      <td>True</td>\n",
       "    </tr>\n",
       "    <tr>\n",
       "      <th>3</th>\n",
       "      <td>1</td>\n",
       "      <td>1</td>\n",
       "      <td>female</td>\n",
       "      <td>35.0</td>\n",
       "      <td>1</td>\n",
       "      <td>0</td>\n",
       "      <td>53.1000</td>\n",
       "      <td>S</td>\n",
       "      <td>First</td>\n",
       "      <td>woman</td>\n",
       "      <td>False</td>\n",
       "      <td>C</td>\n",
       "      <td>Southampton</td>\n",
       "      <td>yes</td>\n",
       "      <td>False</td>\n",
       "    </tr>\n",
       "    <tr>\n",
       "      <th>4</th>\n",
       "      <td>0</td>\n",
       "      <td>3</td>\n",
       "      <td>male</td>\n",
       "      <td>35.0</td>\n",
       "      <td>0</td>\n",
       "      <td>0</td>\n",
       "      <td>8.0500</td>\n",
       "      <td>S</td>\n",
       "      <td>Third</td>\n",
       "      <td>man</td>\n",
       "      <td>True</td>\n",
       "      <td>NaN</td>\n",
       "      <td>Southampton</td>\n",
       "      <td>no</td>\n",
       "      <td>True</td>\n",
       "    </tr>\n",
       "  </tbody>\n",
       "</table>\n",
       "</div>"
      ],
      "text/plain": [
       "   survived  pclass     sex   age  sibsp  parch     fare embarked  class  \\\n",
       "0         0       3    male  22.0      1      0   7.2500        S  Third   \n",
       "1         1       1  female  38.0      1      0  71.2833        C  First   \n",
       "2         1       3  female  26.0      0      0   7.9250        S  Third   \n",
       "3         1       1  female  35.0      1      0  53.1000        S  First   \n",
       "4         0       3    male  35.0      0      0   8.0500        S  Third   \n",
       "\n",
       "     who  adult_male deck  embark_town alive  alone  \n",
       "0    man        True  NaN  Southampton    no  False  \n",
       "1  woman       False    C    Cherbourg   yes  False  \n",
       "2  woman       False  NaN  Southampton   yes   True  \n",
       "3  woman       False    C  Southampton   yes  False  \n",
       "4    man        True  NaN  Southampton    no   True  "
      ]
     },
     "execution_count": 717,
     "metadata": {},
     "output_type": "execute_result"
    }
   ],
   "source": [
    "titanic = sns.load_dataset('titanic')\n",
    "titanic.head()"
   ]
  },
  {
   "cell_type": "markdown",
   "metadata": {},
   "source": [
    "## Detail of data"
   ]
  },
  {
   "cell_type": "code",
   "execution_count": 718,
   "metadata": {
    "scrolled": true
   },
   "outputs": [
    {
     "data": {
      "text/html": [
       "<div>\n",
       "<style>\n",
       "    .dataframe thead tr:only-child th {\n",
       "        text-align: right;\n",
       "    }\n",
       "\n",
       "    .dataframe thead th {\n",
       "        text-align: left;\n",
       "    }\n",
       "\n",
       "    .dataframe tbody tr th {\n",
       "        vertical-align: top;\n",
       "    }\n",
       "</style>\n",
       "<table border=\"1\" class=\"dataframe\">\n",
       "  <thead>\n",
       "    <tr style=\"text-align: right;\">\n",
       "      <th></th>\n",
       "      <th>survived</th>\n",
       "      <th>pclass</th>\n",
       "      <th>age</th>\n",
       "      <th>sibsp</th>\n",
       "      <th>parch</th>\n",
       "      <th>fare</th>\n",
       "    </tr>\n",
       "  </thead>\n",
       "  <tbody>\n",
       "    <tr>\n",
       "      <th>count</th>\n",
       "      <td>891.000000</td>\n",
       "      <td>891.000000</td>\n",
       "      <td>714.000000</td>\n",
       "      <td>891.000000</td>\n",
       "      <td>891.000000</td>\n",
       "      <td>891.000000</td>\n",
       "    </tr>\n",
       "    <tr>\n",
       "      <th>mean</th>\n",
       "      <td>0.383838</td>\n",
       "      <td>2.308642</td>\n",
       "      <td>29.699118</td>\n",
       "      <td>0.523008</td>\n",
       "      <td>0.381594</td>\n",
       "      <td>32.204208</td>\n",
       "    </tr>\n",
       "    <tr>\n",
       "      <th>std</th>\n",
       "      <td>0.486592</td>\n",
       "      <td>0.836071</td>\n",
       "      <td>14.526497</td>\n",
       "      <td>1.102743</td>\n",
       "      <td>0.806057</td>\n",
       "      <td>49.693429</td>\n",
       "    </tr>\n",
       "    <tr>\n",
       "      <th>min</th>\n",
       "      <td>0.000000</td>\n",
       "      <td>1.000000</td>\n",
       "      <td>0.420000</td>\n",
       "      <td>0.000000</td>\n",
       "      <td>0.000000</td>\n",
       "      <td>0.000000</td>\n",
       "    </tr>\n",
       "    <tr>\n",
       "      <th>25%</th>\n",
       "      <td>0.000000</td>\n",
       "      <td>2.000000</td>\n",
       "      <td>20.125000</td>\n",
       "      <td>0.000000</td>\n",
       "      <td>0.000000</td>\n",
       "      <td>7.910400</td>\n",
       "    </tr>\n",
       "    <tr>\n",
       "      <th>50%</th>\n",
       "      <td>0.000000</td>\n",
       "      <td>3.000000</td>\n",
       "      <td>28.000000</td>\n",
       "      <td>0.000000</td>\n",
       "      <td>0.000000</td>\n",
       "      <td>14.454200</td>\n",
       "    </tr>\n",
       "    <tr>\n",
       "      <th>75%</th>\n",
       "      <td>1.000000</td>\n",
       "      <td>3.000000</td>\n",
       "      <td>38.000000</td>\n",
       "      <td>1.000000</td>\n",
       "      <td>0.000000</td>\n",
       "      <td>31.000000</td>\n",
       "    </tr>\n",
       "    <tr>\n",
       "      <th>max</th>\n",
       "      <td>1.000000</td>\n",
       "      <td>3.000000</td>\n",
       "      <td>80.000000</td>\n",
       "      <td>8.000000</td>\n",
       "      <td>6.000000</td>\n",
       "      <td>512.329200</td>\n",
       "    </tr>\n",
       "  </tbody>\n",
       "</table>\n",
       "</div>"
      ],
      "text/plain": [
       "         survived      pclass         age       sibsp       parch        fare\n",
       "count  891.000000  891.000000  714.000000  891.000000  891.000000  891.000000\n",
       "mean     0.383838    2.308642   29.699118    0.523008    0.381594   32.204208\n",
       "std      0.486592    0.836071   14.526497    1.102743    0.806057   49.693429\n",
       "min      0.000000    1.000000    0.420000    0.000000    0.000000    0.000000\n",
       "25%      0.000000    2.000000   20.125000    0.000000    0.000000    7.910400\n",
       "50%      0.000000    3.000000   28.000000    0.000000    0.000000   14.454200\n",
       "75%      1.000000    3.000000   38.000000    1.000000    0.000000   31.000000\n",
       "max      1.000000    3.000000   80.000000    8.000000    6.000000  512.329200"
      ]
     },
     "execution_count": 718,
     "metadata": {},
     "output_type": "execute_result"
    }
   ],
   "source": [
    "titanic.describe()"
   ]
  },
  {
   "cell_type": "markdown",
   "metadata": {},
   "source": [
    "# Step 1-Data Cleaning\n",
    "We will check for NaN or Null values and also check if any of the columns need to be added of removed"
   ]
  },
  {
   "cell_type": "code",
   "execution_count": 719,
   "metadata": {
    "scrolled": true
   },
   "outputs": [
    {
     "data": {
      "text/plain": [
       "survived         0\n",
       "pclass           0\n",
       "sex              0\n",
       "age            177\n",
       "sibsp            0\n",
       "parch            0\n",
       "fare             0\n",
       "embarked         2\n",
       "class            0\n",
       "who              0\n",
       "adult_male       0\n",
       "deck           688\n",
       "embark_town      2\n",
       "alive            0\n",
       "alone            0\n",
       "dtype: int64"
      ]
     },
     "execution_count": 719,
     "metadata": {},
     "output_type": "execute_result"
    }
   ],
   "source": [
    "#total nu of null values in each column\n",
    "titanic.apply(lambda x: sum(x.isnull()),axis=0)"
   ]
  },
  {
   "cell_type": "markdown",
   "metadata": {},
   "source": [
    "we see that there are 177 missing values in \"age\" and \"688\" missing values in \"deck\".\n",
    "First check the values in \"deck\""
   ]
  },
  {
   "cell_type": "code",
   "execution_count": 720,
   "metadata": {
    "scrolled": false
   },
   "outputs": [
    {
     "data": {
      "text/plain": [
       "C    59\n",
       "B    47\n",
       "D    33\n",
       "E    32\n",
       "A    15\n",
       "F    13\n",
       "G     4\n",
       "Name: deck, dtype: int64"
      ]
     },
     "execution_count": 720,
     "metadata": {},
     "output_type": "execute_result"
    }
   ],
   "source": [
    "titanic['deck'].value_counts()"
   ]
  },
  {
   "cell_type": "markdown",
   "metadata": {},
   "source": [
    "**It seems that there is no need for \"deck\" values as more than 40% are missing.So we remove \"deck\" field. Also we remove the 'alive' column**"
   ]
  },
  {
   "cell_type": "code",
   "execution_count": 721,
   "metadata": {
    "collapsed": true
   },
   "outputs": [],
   "source": [
    "#removed unwanted columns\n",
    "def remove_columns(df,column):\n",
    "    return df.drop(column,inplace=True,axis=1)\n",
    "\n",
    "remove_columns(titanic,'alive')\n",
    "remove_columns(titanic,'deck')"
   ]
  },
  {
   "cell_type": "markdown",
   "metadata": {},
   "source": [
    "**Number of Men, Women and Children**"
   ]
  },
  {
   "cell_type": "code",
   "execution_count": 722,
   "metadata": {},
   "outputs": [
    {
     "data": {
      "text/plain": [
       "man      537\n",
       "woman    271\n",
       "child     83\n",
       "Name: who, dtype: int64"
      ]
     },
     "execution_count": 722,
     "metadata": {},
     "output_type": "execute_result"
    }
   ],
   "source": [
    "titanic['who'].value_counts()"
   ]
  },
  {
   "cell_type": "code",
   "execution_count": 723,
   "metadata": {
    "collapsed": true
   },
   "outputs": [
    {
     "data": {
      "text/plain": [
       "[0.8,\n",
       " 1.8,\n",
       " 2.8,\n",
       " 3.8,\n",
       " 4.8,\n",
       " 5.8,\n",
       " 6.8,\n",
       " 7.8,\n",
       " 8.8,\n",
       " 9.8,\n",
       " 10.8,\n",
       " 11.8,\n",
       " 12.8,\n",
       " 13.8,\n",
       " 14.8,\n",
       " 15.8,\n",
       " 16.8,\n",
       " 17.8,\n",
       " 18.8,\n",
       " 19.8,\n",
       " 20.8,\n",
       " 21.8,\n",
       " 22.8,\n",
       " 23.8,\n",
       " 24.8,\n",
       " 25.8,\n",
       " 26.8,\n",
       " 27.8,\n",
       " 28.8,\n",
       " 29.8,\n",
       " 30.8,\n",
       " 31.8,\n",
       " 32.8,\n",
       " 33.8,\n",
       " 34.8,\n",
       " 35.8,\n",
       " 36.8,\n",
       " 37.8,\n",
       " 38.8,\n",
       " 39.8,\n",
       " 40.8,\n",
       " 41.8,\n",
       " 42.8,\n",
       " 43.8,\n",
       " 44.8,\n",
       " 45.8,\n",
       " 46.8,\n",
       " 47.8,\n",
       " 48.8,\n",
       " 49.8,\n",
       " 50.8,\n",
       " 51.8,\n",
       " 52.8,\n",
       " 53.8,\n",
       " 54.8,\n",
       " 55.8,\n",
       " 56.8,\n",
       " 57.8,\n",
       " 58.8,\n",
       " 59.8,\n",
       " 60.8,\n",
       " 61.8,\n",
       " 62.8,\n",
       " 63.8,\n",
       " 64.8,\n",
       " 65.8,\n",
       " 66.8,\n",
       " 67.8,\n",
       " 68.8,\n",
       " 69.8,\n",
       " 70.8,\n",
       " 71.8,\n",
       " 72.8,\n",
       " 73.8,\n",
       " 74.8,\n",
       " 75.8,\n",
       " 76.8,\n",
       " 77.8,\n",
       " 78.8,\n",
       " 79.8,\n",
       " 80.8,\n",
       " 81.8,\n",
       " 82.8,\n",
       " 83.8,\n",
       " 84.8,\n",
       " 85.8,\n",
       " 86.8,\n",
       " 87.8,\n",
       " 88.8,\n",
       " 89.8,\n",
       " 90.8,\n",
       " 91.8,\n",
       " 92.8,\n",
       " 93.8,\n",
       " 94.8,\n",
       " 95.8,\n",
       " 96.8,\n",
       " 97.8,\n",
       " 98.8,\n",
       " 99.8,\n",
       " 100.8,\n",
       " 101.8,\n",
       " 102.8,\n",
       " 103.8,\n",
       " 104.8,\n",
       " 105.8,\n",
       " 106.8,\n",
       " 107.8,\n",
       " 108.8,\n",
       " 109.8,\n",
       " 110.8,\n",
       " 111.8,\n",
       " 112.8,\n",
       " 113.8,\n",
       " 114.8,\n",
       " 115.8,\n",
       " 116.8,\n",
       " 117.8,\n",
       " 118.8,\n",
       " 119.8,\n",
       " 120.8,\n",
       " 121.8,\n",
       " 122.8,\n",
       " 123.8,\n",
       " 124.8,\n",
       " 125.8,\n",
       " 126.8,\n",
       " 127.8,\n",
       " 128.8,\n",
       " 129.8,\n",
       " 130.8,\n",
       " 131.8,\n",
       " 132.8,\n",
       " 133.8,\n",
       " 134.8,\n",
       " 135.8,\n",
       " 136.8,\n",
       " 137.8,\n",
       " 138.8,\n",
       " 139.8,\n",
       " 140.8,\n",
       " 141.8,\n",
       " 142.8,\n",
       " 143.8,\n",
       " 144.8,\n",
       " 145.8,\n",
       " 146.8,\n",
       " 147.8,\n",
       " 148.8,\n",
       " 149.8,\n",
       " 150.8,\n",
       " 151.8,\n",
       " 152.8,\n",
       " 153.8,\n",
       " 154.8,\n",
       " 155.8,\n",
       " 156.8,\n",
       " 157.8,\n",
       " 158.8,\n",
       " 159.8,\n",
       " 160.8,\n",
       " 161.8,\n",
       " 162.8,\n",
       " 163.8,\n",
       " 164.8,\n",
       " 165.8,\n",
       " 166.8,\n",
       " 167.8,\n",
       " 168.8,\n",
       " 169.8,\n",
       " 170.8,\n",
       " 171.8,\n",
       " 172.8,\n",
       " 173.8,\n",
       " 174.8,\n",
       " 175.8,\n",
       " 176.8,\n",
       " 177.8,\n",
       " 178.8,\n",
       " 179.8,\n",
       " 180.8,\n",
       " 181.8,\n",
       " 182.8,\n",
       " 183.8,\n",
       " 184.8,\n",
       " 185.8,\n",
       " 186.8,\n",
       " 187.8,\n",
       " 188.8,\n",
       " 189.8,\n",
       " 190.8,\n",
       " 191.8,\n",
       " 192.8,\n",
       " 193.8,\n",
       " 194.8,\n",
       " 195.8,\n",
       " 196.8,\n",
       " 197.8,\n",
       " 198.8,\n",
       " 199.8,\n",
       " 200.8,\n",
       " 201.8,\n",
       " 202.8,\n",
       " 203.8,\n",
       " 204.8,\n",
       " 205.8,\n",
       " 206.8,\n",
       " 207.8,\n",
       " 208.8,\n",
       " 209.8,\n",
       " 210.8,\n",
       " 211.8,\n",
       " 212.8,\n",
       " 213.8,\n",
       " 214.8,\n",
       " 215.8,\n",
       " 216.8,\n",
       " 217.8,\n",
       " 218.8,\n",
       " 219.8,\n",
       " 220.8,\n",
       " 221.8,\n",
       " 222.8,\n",
       " 223.8,\n",
       " 224.8,\n",
       " 225.8,\n",
       " 226.8,\n",
       " 227.8,\n",
       " 228.8,\n",
       " 229.8,\n",
       " 230.8,\n",
       " 231.8,\n",
       " 232.8,\n",
       " 233.8,\n",
       " 234.8,\n",
       " 235.8,\n",
       " 236.8,\n",
       " 237.8,\n",
       " 238.8,\n",
       " 239.8,\n",
       " 240.8,\n",
       " 241.8,\n",
       " 242.8,\n",
       " 243.8,\n",
       " 244.8,\n",
       " 245.8,\n",
       " 246.8,\n",
       " 247.8,\n",
       " 248.8,\n",
       " 249.8,\n",
       " 250.8,\n",
       " 251.8,\n",
       " 252.8,\n",
       " 253.8,\n",
       " 254.8,\n",
       " 255.8,\n",
       " 256.8,\n",
       " 257.8,\n",
       " 258.8,\n",
       " 259.8,\n",
       " 260.8,\n",
       " 261.8,\n",
       " 262.8,\n",
       " 263.8,\n",
       " 264.8,\n",
       " 265.8,\n",
       " 266.8,\n",
       " 267.8,\n",
       " 268.8,\n",
       " 269.8,\n",
       " 270.8,\n",
       " 271.8,\n",
       " 272.8,\n",
       " 273.8,\n",
       " 274.8,\n",
       " 275.8,\n",
       " 276.8,\n",
       " 277.8,\n",
       " 278.8,\n",
       " 279.8,\n",
       " 280.8,\n",
       " 281.8,\n",
       " 282.8,\n",
       " 283.8,\n",
       " 284.8,\n",
       " 285.8,\n",
       " 286.8,\n",
       " 287.8,\n",
       " 288.8,\n",
       " 289.8,\n",
       " 290.8,\n",
       " 291.8,\n",
       " 292.8,\n",
       " 293.8,\n",
       " 294.8,\n",
       " 295.8,\n",
       " 296.8,\n",
       " 297.8,\n",
       " 298.8,\n",
       " 299.8,\n",
       " 300.8,\n",
       " 301.8,\n",
       " 302.8,\n",
       " 303.8,\n",
       " 304.8,\n",
       " 305.8,\n",
       " 306.8,\n",
       " 307.8,\n",
       " 308.8,\n",
       " 309.8,\n",
       " 310.8,\n",
       " 311.8,\n",
       " 312.8,\n",
       " 313.8,\n",
       " 314.8,\n",
       " 315.8,\n",
       " 316.8,\n",
       " 317.8,\n",
       " 318.8,\n",
       " 319.8,\n",
       " 320.8,\n",
       " 321.8,\n",
       " 322.8,\n",
       " 323.8,\n",
       " 324.8,\n",
       " 325.8,\n",
       " 326.8,\n",
       " 327.8,\n",
       " 328.8,\n",
       " 329.8,\n",
       " 330.8,\n",
       " 331.8,\n",
       " 332.8,\n",
       " 333.8,\n",
       " 334.8,\n",
       " 335.8,\n",
       " 336.8,\n",
       " 337.8,\n",
       " 338.8,\n",
       " 339.8,\n",
       " 340.8,\n",
       " 341.8,\n",
       " 342.8,\n",
       " 343.8,\n",
       " 344.8,\n",
       " 345.8,\n",
       " 346.8,\n",
       " 347.8,\n",
       " 348.8,\n",
       " 349.8,\n",
       " 350.8,\n",
       " 351.8,\n",
       " 352.8,\n",
       " 353.8,\n",
       " 354.8,\n",
       " 355.8,\n",
       " 356.8,\n",
       " 357.8,\n",
       " 358.8,\n",
       " 359.8,\n",
       " 360.8,\n",
       " 361.8,\n",
       " 362.8,\n",
       " 363.8,\n",
       " 364.8,\n",
       " 365.8,\n",
       " 366.8,\n",
       " 367.8,\n",
       " 368.8,\n",
       " 369.8,\n",
       " 370.8,\n",
       " 371.8,\n",
       " 372.8,\n",
       " 373.8,\n",
       " 374.8,\n",
       " 375.8,\n",
       " 376.8,\n",
       " 377.8,\n",
       " 378.8,\n",
       " 379.8,\n",
       " 380.8,\n",
       " 381.8,\n",
       " 382.8,\n",
       " 383.8,\n",
       " 384.8,\n",
       " 385.8,\n",
       " 386.8,\n",
       " 387.8,\n",
       " 388.8,\n",
       " 389.8,\n",
       " 390.8,\n",
       " 391.8,\n",
       " 392.8,\n",
       " 393.8,\n",
       " 394.8,\n",
       " 395.8,\n",
       " 396.8,\n",
       " 397.8,\n",
       " 398.8,\n",
       " 399.8,\n",
       " 400.8,\n",
       " 401.8,\n",
       " 402.8,\n",
       " 403.8,\n",
       " 404.8,\n",
       " 405.8,\n",
       " 406.8,\n",
       " 407.8,\n",
       " 408.8,\n",
       " 409.8,\n",
       " 410.8,\n",
       " 411.8,\n",
       " 412.8,\n",
       " 413.8,\n",
       " 414.8,\n",
       " 415.8,\n",
       " 416.8,\n",
       " 417.8,\n",
       " 418.8,\n",
       " 419.8,\n",
       " 420.8,\n",
       " 421.8,\n",
       " 422.8,\n",
       " 423.8,\n",
       " 424.8,\n",
       " 425.8,\n",
       " 426.8,\n",
       " 427.8,\n",
       " 428.8,\n",
       " 429.8,\n",
       " 430.8,\n",
       " 431.8,\n",
       " 432.8,\n",
       " 433.8,\n",
       " 434.8,\n",
       " 435.8,\n",
       " 436.8,\n",
       " 437.8,\n",
       " 438.8,\n",
       " 439.8,\n",
       " 440.8,\n",
       " 441.8,\n",
       " 442.8,\n",
       " 443.8,\n",
       " 444.8,\n",
       " 445.8,\n",
       " 446.8,\n",
       " 447.8,\n",
       " 448.8,\n",
       " 449.8,\n",
       " 450.8,\n",
       " 451.8,\n",
       " 452.8,\n",
       " 453.8,\n",
       " 454.8,\n",
       " 455.8,\n",
       " 456.8,\n",
       " 457.8,\n",
       " 458.8,\n",
       " 459.8,\n",
       " 460.8,\n",
       " 461.8,\n",
       " 462.8,\n",
       " 463.8,\n",
       " 464.8,\n",
       " 465.8,\n",
       " 466.8,\n",
       " 467.8,\n",
       " 468.8,\n",
       " 469.8,\n",
       " 470.8,\n",
       " 471.8,\n",
       " 472.8,\n",
       " 473.8,\n",
       " 474.8,\n",
       " 475.8,\n",
       " 476.8,\n",
       " 477.8,\n",
       " 478.8,\n",
       " 479.8,\n",
       " 480.8,\n",
       " 481.8,\n",
       " 482.8,\n",
       " 483.8,\n",
       " 484.8,\n",
       " 485.8,\n",
       " 486.8,\n",
       " 487.8,\n",
       " 488.8,\n",
       " 489.8,\n",
       " 490.8,\n",
       " 491.8,\n",
       " 492.8,\n",
       " 493.8,\n",
       " 494.8,\n",
       " 495.8,\n",
       " 496.8,\n",
       " 497.8,\n",
       " 498.8,\n",
       " 499.8,\n",
       " 500.8,\n",
       " 501.8,\n",
       " 502.8,\n",
       " 503.8,\n",
       " 504.8,\n",
       " 505.8,\n",
       " 506.8,\n",
       " 507.8,\n",
       " 508.8,\n",
       " 509.8,\n",
       " 510.8,\n",
       " 511.8,\n",
       " 512.8,\n",
       " 513.8,\n",
       " 514.8,\n",
       " 515.8,\n",
       " 516.8,\n",
       " 517.8,\n",
       " 518.8,\n",
       " 519.8,\n",
       " 520.8,\n",
       " 521.8,\n",
       " 522.8,\n",
       " 523.8,\n",
       " 524.8,\n",
       " 525.8,\n",
       " 526.8,\n",
       " 527.8,\n",
       " 528.8,\n",
       " 529.8,\n",
       " 530.8,\n",
       " 531.8,\n",
       " 532.8,\n",
       " 533.8,\n",
       " 534.8,\n",
       " 535.8,\n",
       " 536.8,\n",
       " 537.8,\n",
       " 538.8,\n",
       " 539.8,\n",
       " 540.8,\n",
       " 541.8,\n",
       " 542.8,\n",
       " 543.8,\n",
       " 544.8,\n",
       " 545.8,\n",
       " 546.8,\n",
       " 547.8,\n",
       " 548.8,\n",
       " 549.8,\n",
       " 550.8,\n",
       " 551.8,\n",
       " 552.8,\n",
       " 553.8,\n",
       " 554.8,\n",
       " 555.8,\n",
       " 556.8,\n",
       " 557.8,\n",
       " 558.8,\n",
       " 559.8,\n",
       " 560.8,\n",
       " 561.8,\n",
       " 562.8,\n",
       " 563.8,\n",
       " 564.8,\n",
       " 565.8,\n",
       " 566.8,\n",
       " 567.8,\n",
       " 568.8,\n",
       " 569.8,\n",
       " 570.8,\n",
       " 571.8,\n",
       " 572.8,\n",
       " 573.8,\n",
       " 574.8,\n",
       " 575.8,\n",
       " 576.8,\n",
       " 577.8,\n",
       " 578.8,\n",
       " 579.8,\n",
       " 580.8,\n",
       " 581.8,\n",
       " 582.8,\n",
       " 583.8,\n",
       " 584.8,\n",
       " 585.8,\n",
       " 586.8,\n",
       " 587.8,\n",
       " 588.8,\n",
       " 589.8,\n",
       " 590.8,\n",
       " 591.8,\n",
       " 592.8,\n",
       " 593.8,\n",
       " 594.8,\n",
       " 595.8,\n",
       " 596.8,\n",
       " 597.8,\n",
       " 598.8,\n",
       " 599.8,\n",
       " 600.8,\n",
       " 601.8,\n",
       " 602.8,\n",
       " 603.8,\n",
       " 604.8,\n",
       " 605.8,\n",
       " 606.8,\n",
       " 607.8,\n",
       " 608.8,\n",
       " 609.8,\n",
       " 610.8,\n",
       " 611.8,\n",
       " 612.8,\n",
       " 613.8,\n",
       " 614.8,\n",
       " 615.8,\n",
       " 616.8,\n",
       " 617.8,\n",
       " 618.8,\n",
       " 619.8,\n",
       " 620.8,\n",
       " 621.8,\n",
       " 622.8,\n",
       " 623.8,\n",
       " 624.8,\n",
       " 625.8,\n",
       " 626.8,\n",
       " 627.8,\n",
       " 628.8,\n",
       " 629.8,\n",
       " 630.8,\n",
       " 631.8,\n",
       " 632.8,\n",
       " 633.8,\n",
       " 634.8,\n",
       " 635.8,\n",
       " 636.8,\n",
       " 637.8,\n",
       " 638.8,\n",
       " 639.8,\n",
       " 640.8,\n",
       " 641.8,\n",
       " 642.8,\n",
       " 643.8,\n",
       " 644.8,\n",
       " 645.8,\n",
       " 646.8,\n",
       " 647.8,\n",
       " 648.8,\n",
       " 649.8,\n",
       " 650.8,\n",
       " 651.8,\n",
       " 652.8,\n",
       " 653.8,\n",
       " 654.8,\n",
       " 655.8,\n",
       " 656.8,\n",
       " 657.8,\n",
       " 658.8,\n",
       " 659.8,\n",
       " 660.8,\n",
       " 661.8,\n",
       " 662.8,\n",
       " 663.8,\n",
       " 664.8,\n",
       " 665.8,\n",
       " 666.8,\n",
       " 667.8,\n",
       " 668.8,\n",
       " 669.8,\n",
       " 670.8,\n",
       " 671.8,\n",
       " 672.8,\n",
       " 673.8,\n",
       " 674.8,\n",
       " 675.8,\n",
       " 676.8,\n",
       " 677.8,\n",
       " 678.8,\n",
       " 679.8,\n",
       " 680.8,\n",
       " 681.8,\n",
       " 682.8,\n",
       " 683.8,\n",
       " 684.8,\n",
       " 685.8,\n",
       " 686.8,\n",
       " 687.8,\n",
       " 688.8,\n",
       " 689.8,\n",
       " 690.8,\n",
       " 691.8,\n",
       " 692.8,\n",
       " 693.8,\n",
       " 694.8,\n",
       " 695.8,\n",
       " 696.8,\n",
       " 697.8,\n",
       " 698.8,\n",
       " 699.8,\n",
       " 700.8,\n",
       " 701.8,\n",
       " 702.8,\n",
       " 703.8,\n",
       " 704.8,\n",
       " 705.8,\n",
       " 706.8,\n",
       " 707.8,\n",
       " 708.8,\n",
       " 709.8,\n",
       " 710.8,\n",
       " 711.8,\n",
       " 712.8,\n",
       " 713.8,\n",
       " 714.8,\n",
       " 715.8,\n",
       " 716.8,\n",
       " 717.8,\n",
       " 718.8,\n",
       " 719.8,\n",
       " 720.8,\n",
       " 721.8,\n",
       " 722.8,\n",
       " 723.8,\n",
       " 724.8,\n",
       " 725.8,\n",
       " 726.8,\n",
       " 727.8,\n",
       " 728.8,\n",
       " 729.8,\n",
       " 730.8,\n",
       " 731.8,\n",
       " 732.8,\n",
       " 733.8,\n",
       " 734.8,\n",
       " 735.8,\n",
       " 736.8,\n",
       " 737.8,\n",
       " 738.8,\n",
       " 739.8,\n",
       " 740.8,\n",
       " 741.8,\n",
       " 742.8,\n",
       " 743.8,\n",
       " 744.8,\n",
       " 745.8,\n",
       " 746.8,\n",
       " 747.8,\n",
       " 748.8,\n",
       " 749.8,\n",
       " 750.8,\n",
       " 751.8,\n",
       " 752.8,\n",
       " 753.8,\n",
       " 754.8,\n",
       " 755.8,\n",
       " 756.8,\n",
       " 757.8,\n",
       " 758.8,\n",
       " 759.8,\n",
       " 760.8,\n",
       " 761.8,\n",
       " 762.8,\n",
       " 763.8,\n",
       " 764.8,\n",
       " 765.8,\n",
       " 766.8,\n",
       " 767.8,\n",
       " 768.8,\n",
       " 769.8,\n",
       " 770.8,\n",
       " 771.8,\n",
       " 772.8,\n",
       " 773.8,\n",
       " 774.8,\n",
       " 775.8,\n",
       " 776.8,\n",
       " 777.8,\n",
       " 778.8,\n",
       " 779.8,\n",
       " 780.8,\n",
       " 781.8,\n",
       " 782.8,\n",
       " 783.8,\n",
       " 784.8,\n",
       " 785.8,\n",
       " 786.8,\n",
       " 787.8,\n",
       " 788.8,\n",
       " 789.8,\n",
       " 790.8,\n",
       " 791.8,\n",
       " 792.8,\n",
       " 793.8,\n",
       " 794.8,\n",
       " 795.8,\n",
       " 796.8,\n",
       " 797.8,\n",
       " 798.8,\n",
       " 799.8,\n",
       " 800.8,\n",
       " 801.8,\n",
       " 802.8,\n",
       " 803.8,\n",
       " 804.8,\n",
       " 805.8,\n",
       " 806.8,\n",
       " 807.8,\n",
       " 808.8,\n",
       " 809.8,\n",
       " 810.8,\n",
       " 811.8,\n",
       " 812.8,\n",
       " 813.8,\n",
       " 814.8,\n",
       " 815.8,\n",
       " 816.8,\n",
       " 817.8,\n",
       " 818.8,\n",
       " 819.8,\n",
       " 820.8,\n",
       " 821.8,\n",
       " 822.8,\n",
       " 823.8,\n",
       " 824.8,\n",
       " 825.8,\n",
       " 826.8,\n",
       " 827.8,\n",
       " 828.8,\n",
       " 829.8,\n",
       " 830.8,\n",
       " 831.8,\n",
       " 832.8,\n",
       " 833.8,\n",
       " 834.8,\n",
       " 835.8,\n",
       " 836.8,\n",
       " 837.8,\n",
       " 838.8,\n",
       " 839.8,\n",
       " 840.8,\n",
       " 841.8,\n",
       " 842.8,\n",
       " 843.8,\n",
       " 844.8,\n",
       " 845.8,\n",
       " 846.8,\n",
       " 847.8,\n",
       " 848.8,\n",
       " 849.8,\n",
       " 850.8,\n",
       " 851.8,\n",
       " 852.8,\n",
       " 853.8,\n",
       " 854.8,\n",
       " 855.8,\n",
       " 856.8,\n",
       " 857.8,\n",
       " 858.8,\n",
       " 859.8,\n",
       " 860.8,\n",
       " 861.8,\n",
       " 862.8,\n",
       " 863.8,\n",
       " 864.8,\n",
       " 865.8,\n",
       " 866.8,\n",
       " 867.8,\n",
       " 868.8,\n",
       " 869.8,\n",
       " 870.8,\n",
       " 871.8,\n",
       " 872.8,\n",
       " 873.8,\n",
       " 874.8,\n",
       " 875.8,\n",
       " 876.8,\n",
       " 877.8,\n",
       " 878.8,\n",
       " 879.8,\n",
       " 880.8,\n",
       " 881.8,\n",
       " 882.8,\n",
       " 883.8,\n",
       " 884.8,\n",
       " 885.8,\n",
       " 886.8,\n",
       " 887.8,\n",
       " 888.8,\n",
       " 889.8,\n",
       " 890.8]"
      ]
     },
     "execution_count": 723,
     "metadata": {},
     "output_type": "execute_result"
    }
   ],
   "source": [
    "xs=[i+0.8 for i,_ in enumerate(titanic['who'])]"
   ]
  },
  {
   "cell_type": "code",
   "execution_count": 724,
   "metadata": {
    "scrolled": false
   },
   "outputs": [
    {
     "data": {
      "text/plain": [
       "<matplotlib.text.Text at 0x2c50f1d0>"
      ]
     },
     "execution_count": 724,
     "metadata": {},
     "output_type": "execute_result"
    },
    {
     "data": {
      "image/png": "[encoded data removed]",
      "text/plain": [
       "<matplotlib.figure.Figure at 0x2ad4c550>"
      ]
     },
     "metadata": {},
     "output_type": "display_data"
    }
   ],
   "source": [
    "sns.barplot(data=titanic,x=titanic['who'],y=titanic.survived)\n",
    "plt.title('Surival Data for Men,Women and Children')"
   ]
  },
  {
   "cell_type": "markdown",
   "metadata": {},
   "source": [
    "## There are 177 null values in age which can effect our results.So we have to fill these values by appropiate value"
   ]
  },
  {
   "cell_type": "code",
   "execution_count": 725,
   "metadata": {},
   "outputs": [
    {
     "data": {
      "text/plain": [
       "29.69911764705882"
      ]
     },
     "execution_count": 725,
     "metadata": {},
     "output_type": "execute_result"
    }
   ],
   "source": [
    "#first we find the mean\n",
    "titanic['age'].mean()"
   ]
  },
  {
   "cell_type": "markdown",
   "metadata": {},
   "source": [
    "**The mean is 29 but we cant fill all the 177 values by 29 as there can be many children among these 177 values.Let us check the median**"
   ]
  },
  {
   "cell_type": "code",
   "execution_count": 726,
   "metadata": {},
   "outputs": [
    {
     "data": {
      "text/plain": [
       "28.0"
      ]
     },
     "execution_count": 726,
     "metadata": {},
     "output_type": "execute_result"
    }
   ],
   "source": [
    "titanic['age'].median()"
   ]
  },
  {
   "cell_type": "markdown",
   "metadata": {},
   "source": [
    "**..Median is also same as the mean.we cant fill all the 177 values by 28 as there can be many children among these 177 values.So now check how many children are there **"
   ]
  },
  {
   "cell_type": "code",
   "execution_count": 727,
   "metadata": {
    "collapsed": true
   },
   "outputs": [],
   "source": [
    "# we see that the 'who' column tells us whether the entry if of 'man' , 'woman' or 'child'.\n",
    "#so we check the number of children here"
   ]
  },
  {
   "cell_type": "code",
   "execution_count": 728,
   "metadata": {},
   "outputs": [
    {
     "data": {
      "text/plain": [
       "man      537\n",
       "woman    271\n",
       "child     83\n",
       "Name: who, dtype: int64"
      ]
     },
     "execution_count": 728,
     "metadata": {},
     "output_type": "execute_result"
    }
   ],
   "source": [
    "def count_values(df,col_name):\n",
    "    return df[col_name].value_counts()\n",
    "count_values(titanic,'who')"
   ]
  },
  {
   "cell_type": "markdown",
   "metadata": {},
   "source": [
    "Number of children is 83 so we cannot fill the NaN values by media=28 or mean=29.We can fill the NaN entries with median if we have adult 'man' or 'woman'.\n",
    "Let us check the NaN entries in titanic['age'] corressponding to titanic['who']='child"
   ]
  },
  {
   "cell_type": "markdown",
   "metadata": {},
   "source": [
    "** Checking how many Children have missing values**"
   ]
  },
  {
   "cell_type": "code",
   "execution_count": 729,
   "metadata": {
    "scrolled": true
   },
   "outputs": [
    {
     "data": {
      "text/plain": [
       "survived       0\n",
       "pclass         0\n",
       "sex            0\n",
       "age            0\n",
       "sibsp          0\n",
       "parch          0\n",
       "fare           0\n",
       "embarked       0\n",
       "class          0\n",
       "who            0\n",
       "adult_male     0\n",
       "embark_town    0\n",
       "alone          0\n",
       "dtype: int64"
      ]
     },
     "execution_count": 729,
     "metadata": {},
     "output_type": "execute_result"
    }
   ],
   "source": [
    "titanic.loc[titanic['who']=='child'].isnull().sum()"
   ]
  },
  {
   "cell_type": "markdown",
   "metadata": {},
   "source": [
    "We see that none of the 83 children have NaN values in their respective age column.\n",
    "So its same to replace missing values of age with median =28"
   ]
  },
  {
   "cell_type": "code",
   "execution_count": 730,
   "metadata": {
    "collapsed": true
   },
   "outputs": [],
   "source": [
    "titanic['age'].fillna(titanic['age'].median(),inplace=True)"
   ]
  },
  {
   "cell_type": "code",
   "execution_count": 731,
   "metadata": {
    "scrolled": false
   },
   "outputs": [
    {
     "data": {
      "text/plain": [
       "survived       0\n",
       "pclass         0\n",
       "sex            0\n",
       "age            0\n",
       "sibsp          0\n",
       "parch          0\n",
       "fare           0\n",
       "embarked       2\n",
       "class          0\n",
       "who            0\n",
       "adult_male     0\n",
       "embark_town    2\n",
       "alone          0\n",
       "dtype: int64"
      ]
     },
     "execution_count": 731,
     "metadata": {},
     "output_type": "execute_result"
    }
   ],
   "source": [
    "#total nu of null values in each column\n",
    "titanic.apply(lambda x :sum(x.isnull()),axis=0)"
   ]
  },
  {
   "cell_type": "code",
   "execution_count": 737,
   "metadata": {
    "collapsed": true
   },
   "outputs": [],
   "source": [
    "#making a new variable for Gender\n",
    "titanic['Sex_integer']=np.where(titanic.sex=='male',1,0)"
   ]
  },
  {
   "cell_type": "code",
   "execution_count": 738,
   "metadata": {
    "scrolled": true
   },
   "outputs": [
    {
     "data": {
      "text/html": [
       "<div>\n",
       "<style>\n",
       "    .dataframe thead tr:only-child th {\n",
       "        text-align: right;\n",
       "    }\n",
       "\n",
       "    .dataframe thead th {\n",
       "        text-align: left;\n",
       "    }\n",
       "\n",
       "    .dataframe tbody tr th {\n",
       "        vertical-align: top;\n",
       "    }\n",
       "</style>\n",
       "<table border=\"1\" class=\"dataframe\">\n",
       "  <thead>\n",
       "    <tr style=\"text-align: right;\">\n",
       "      <th></th>\n",
       "      <th>survived</th>\n",
       "      <th>pclass</th>\n",
       "      <th>sex</th>\n",
       "      <th>age</th>\n",
       "      <th>sibsp</th>\n",
       "      <th>parch</th>\n",
       "      <th>fare</th>\n",
       "      <th>embarked</th>\n",
       "      <th>class</th>\n",
       "      <th>who</th>\n",
       "      <th>adult_male</th>\n",
       "      <th>embark_town</th>\n",
       "      <th>alone</th>\n",
       "      <th>Sex_integer</th>\n",
       "    </tr>\n",
       "  </thead>\n",
       "  <tbody>\n",
       "    <tr>\n",
       "      <th>0</th>\n",
       "      <td>0</td>\n",
       "      <td>3</td>\n",
       "      <td>male</td>\n",
       "      <td>22.0</td>\n",
       "      <td>1</td>\n",
       "      <td>0</td>\n",
       "      <td>7.2500</td>\n",
       "      <td>S</td>\n",
       "      <td>Third</td>\n",
       "      <td>man</td>\n",
       "      <td>True</td>\n",
       "      <td>Southampton</td>\n",
       "      <td>False</td>\n",
       "      <td>1</td>\n",
       "    </tr>\n",
       "    <tr>\n",
       "      <th>1</th>\n",
       "      <td>1</td>\n",
       "      <td>1</td>\n",
       "      <td>female</td>\n",
       "      <td>38.0</td>\n",
       "      <td>1</td>\n",
       "      <td>0</td>\n",
       "      <td>71.2833</td>\n",
       "      <td>C</td>\n",
       "      <td>First</td>\n",
       "      <td>woman</td>\n",
       "      <td>False</td>\n",
       "      <td>Cherbourg</td>\n",
       "      <td>False</td>\n",
       "      <td>0</td>\n",
       "    </tr>\n",
       "    <tr>\n",
       "      <th>2</th>\n",
       "      <td>1</td>\n",
       "      <td>3</td>\n",
       "      <td>female</td>\n",
       "      <td>26.0</td>\n",
       "      <td>0</td>\n",
       "      <td>0</td>\n",
       "      <td>7.9250</td>\n",
       "      <td>S</td>\n",
       "      <td>Third</td>\n",
       "      <td>woman</td>\n",
       "      <td>False</td>\n",
       "      <td>Southampton</td>\n",
       "      <td>True</td>\n",
       "      <td>0</td>\n",
       "    </tr>\n",
       "    <tr>\n",
       "      <th>3</th>\n",
       "      <td>1</td>\n",
       "      <td>1</td>\n",
       "      <td>female</td>\n",
       "      <td>35.0</td>\n",
       "      <td>1</td>\n",
       "      <td>0</td>\n",
       "      <td>53.1000</td>\n",
       "      <td>S</td>\n",
       "      <td>First</td>\n",
       "      <td>woman</td>\n",
       "      <td>False</td>\n",
       "      <td>Southampton</td>\n",
       "      <td>False</td>\n",
       "      <td>0</td>\n",
       "    </tr>\n",
       "    <tr>\n",
       "      <th>4</th>\n",
       "      <td>0</td>\n",
       "      <td>3</td>\n",
       "      <td>male</td>\n",
       "      <td>35.0</td>\n",
       "      <td>0</td>\n",
       "      <td>0</td>\n",
       "      <td>8.0500</td>\n",
       "      <td>S</td>\n",
       "      <td>Third</td>\n",
       "      <td>man</td>\n",
       "      <td>True</td>\n",
       "      <td>Southampton</td>\n",
       "      <td>True</td>\n",
       "      <td>1</td>\n",
       "    </tr>\n",
       "  </tbody>\n",
       "</table>\n",
       "</div>"
      ],
      "text/plain": [
       "   survived  pclass     sex   age  sibsp  parch     fare embarked  class  \\\n",
       "0         0       3    male  22.0      1      0   7.2500        S  Third   \n",
       "1         1       1  female  38.0      1      0  71.2833        C  First   \n",
       "2         1       3  female  26.0      0      0   7.9250        S  Third   \n",
       "3         1       1  female  35.0      1      0  53.1000        S  First   \n",
       "4         0       3    male  35.0      0      0   8.0500        S  Third   \n",
       "\n",
       "     who  adult_male  embark_town  alone  Sex_integer  \n",
       "0    man        True  Southampton  False            1  \n",
       "1  woman       False    Cherbourg  False            0  \n",
       "2  woman       False  Southampton   True            0  \n",
       "3  woman       False  Southampton  False            0  \n",
       "4    man        True  Southampton   True            1  "
      ]
     },
     "execution_count": 738,
     "metadata": {},
     "output_type": "execute_result"
    }
   ],
   "source": [
    "titanic.head()"
   ]
  },
  {
   "cell_type": "code",
   "execution_count": 747,
   "metadata": {
    "collapsed": true
   },
   "outputs": [],
   "source": [
    "# convert floats to integer\n",
    "titanic['age']=titanic['age'].astype(int)"
   ]
  },
  {
   "cell_type": "markdown",
   "metadata": {},
   "source": [
    "# Observations"
   ]
  },
  {
   "cell_type": "markdown",
   "metadata": {},
   "source": [
    "##  Total Number of  male and female"
   ]
  },
  {
   "cell_type": "code",
   "execution_count": 379,
   "metadata": {},
   "outputs": [
    {
     "data": {
      "text/plain": [
       "male      577\n",
       "female    314\n",
       "Name: sex, dtype: int64"
      ]
     },
     "execution_count": 379,
     "metadata": {},
     "output_type": "execute_result"
    }
   ],
   "source": [
    "titanic['sex'].value_counts()"
   ]
  },
  {
   "cell_type": "code",
   "execution_count": 380,
   "metadata": {
    "scrolled": true
   },
   "outputs": [
    {
     "data": {
      "text/plain": [
       "<matplotlib.text.Text at 0x1e01c518>"
      ]
     },
     "execution_count": 380,
     "metadata": {},
     "output_type": "execute_result"
    },
    {
     "data": {
      "image/png": "[encoded data removed]",
      "text/plain": [
       "<matplotlib.figure.Figure at 0x1f2d96a0>"
      ]
     },
     "metadata": {},
     "output_type": "display_data"
    }
   ],
   "source": [
    "sns.countplot(x=titanic['sex'],data=titanic)\n",
    "plt.xlabel('Gender')\n",
    "plt.title('Male and Female Passengers')"
   ]
  },
  {
   "cell_type": "markdown",
   "metadata": {},
   "source": [
    "##  No of adult male,adult female and children"
   ]
  },
  {
   "cell_type": "code",
   "execution_count": 381,
   "metadata": {
    "scrolled": true
   },
   "outputs": [
    {
     "data": {
      "text/html": [
       "<div>\n",
       "<style>\n",
       "    .dataframe thead tr:only-child th {\n",
       "        text-align: right;\n",
       "    }\n",
       "\n",
       "    .dataframe thead th {\n",
       "        text-align: left;\n",
       "    }\n",
       "\n",
       "    .dataframe tbody tr th {\n",
       "        vertical-align: top;\n",
       "    }\n",
       "</style>\n",
       "<table border=\"1\" class=\"dataframe\">\n",
       "  <thead>\n",
       "    <tr style=\"text-align: right;\">\n",
       "      <th></th>\n",
       "      <th>sex</th>\n",
       "    </tr>\n",
       "    <tr>\n",
       "      <th>who</th>\n",
       "      <th></th>\n",
       "    </tr>\n",
       "  </thead>\n",
       "  <tbody>\n",
       "    <tr>\n",
       "      <th>child</th>\n",
       "      <td>83</td>\n",
       "    </tr>\n",
       "    <tr>\n",
       "      <th>man</th>\n",
       "      <td>537</td>\n",
       "    </tr>\n",
       "    <tr>\n",
       "      <th>woman</th>\n",
       "      <td>271</td>\n",
       "    </tr>\n",
       "  </tbody>\n",
       "</table>\n",
       "</div>"
      ],
      "text/plain": [
       "       sex\n",
       "who       \n",
       "child   83\n",
       "man    537\n",
       "woman  271"
      ]
     },
     "execution_count": 381,
     "metadata": {},
     "output_type": "execute_result"
    }
   ],
   "source": [
    "titanic_gender_pivot=titanic.pivot_table('sex', 'who',aggfunc='count')\n",
    "titanic_gender_pivot"
   ]
  },
  {
   "cell_type": "code",
   "execution_count": 382,
   "metadata": {
    "scrolled": false
   },
   "outputs": [
    {
     "data": {
      "text/plain": [
       "<matplotlib.text.Text at 0x1f28b588>"
      ]
     },
     "execution_count": 382,
     "metadata": {},
     "output_type": "execute_result"
    },
    {
     "data": {
      "image/png": "[encoded data removed]",
      "text/plain": [
       "<matplotlib.figure.Figure at 0x1dd3ec88>"
      ]
     },
     "metadata": {},
     "output_type": "display_data"
    }
   ],
   "source": [
    "titanic_gender_pivot.plot(kind='bar',figsize=(15,10))\n",
    "plt.ylabel('Number of persons')\n",
    "plt.xlabel('Child or Man or Woman')"
   ]
  },
  {
   "cell_type": "markdown",
   "metadata": {},
   "source": [
    "# Age distribution"
   ]
  },
  {
   "cell_type": "code",
   "execution_count": 383,
   "metadata": {
    "scrolled": true
   },
   "outputs": [
    {
     "data": {
      "text/plain": [
       "<matplotlib.text.Text at 0x1d791320>"
      ]
     },
     "execution_count": 383,
     "metadata": {},
     "output_type": "execute_result"
    },
    {
     "data": {
      "image/png": "[encoded data removed]",
      "text/plain": [
       "<matplotlib.figure.Figure at 0x1da27390>"
      ]
     },
     "metadata": {},
     "output_type": "display_data"
    }
   ],
   "source": [
    "sns.distplot(titanic['age'],color='red',kde=False)\n",
    "plt.xlabel('Age')\n",
    "plt.title('Age of passengers')"
   ]
  },
  {
   "cell_type": "markdown",
   "metadata": {},
   "source": [
    "** Most of the age distribution is between 20 and 40.The peak 28 is actually the number of filled missing values with the median**"
   ]
  },
  {
   "cell_type": "markdown",
   "metadata": {},
   "source": [
    "# Question : Is there relation between \"Survival\" and \"Gender\""
   ]
  },
  {
   "cell_type": "code",
   "execution_count": 384,
   "metadata": {
    "scrolled": false
   },
   "outputs": [
    {
     "data": {
      "text/html": [
       "<div>\n",
       "<style>\n",
       "    .dataframe thead tr:only-child th {\n",
       "        text-align: right;\n",
       "    }\n",
       "\n",
       "    .dataframe thead th {\n",
       "        text-align: left;\n",
       "    }\n",
       "\n",
       "    .dataframe tbody tr th {\n",
       "        vertical-align: top;\n",
       "    }\n",
       "</style>\n",
       "<table border=\"1\" class=\"dataframe\">\n",
       "  <thead>\n",
       "    <tr style=\"text-align: right;\">\n",
       "      <th></th>\n",
       "      <th>survived</th>\n",
       "    </tr>\n",
       "    <tr>\n",
       "      <th>sex</th>\n",
       "      <th></th>\n",
       "    </tr>\n",
       "  </thead>\n",
       "  <tbody>\n",
       "    <tr>\n",
       "      <th>female</th>\n",
       "      <td>233</td>\n",
       "    </tr>\n",
       "    <tr>\n",
       "      <th>male</th>\n",
       "      <td>109</td>\n",
       "    </tr>\n",
       "  </tbody>\n",
       "</table>\n",
       "</div>"
      ],
      "text/plain": [
       "        survived\n",
       "sex             \n",
       "female       233\n",
       "male         109"
      ]
     },
     "execution_count": 384,
     "metadata": {},
     "output_type": "execute_result"
    }
   ],
   "source": [
    "titanic_male_female=titanic.pivot_table('survived','sex',aggfunc='sum')\n",
    "titanic_male_female"
   ]
  },
  {
   "cell_type": "code",
   "execution_count": 386,
   "metadata": {
    "scrolled": true
   },
   "outputs": [
    {
     "data": {
      "text/plain": [
       "<matplotlib.text.Text at 0x1cc27400>"
      ]
     },
     "execution_count": 386,
     "metadata": {},
     "output_type": "execute_result"
    },
    {
     "data": {
      "image/png": "[encoded data removed]",
      "text/plain": [
       "<matplotlib.figure.Figure at 0x1f7e7550>"
      ]
     },
     "metadata": {},
     "output_type": "display_data"
    }
   ],
   "source": [
    "titanic_male_female.plot(kind='bar',figsize=(10,6))\n",
    "plt.ylabel('survived')"
   ]
  },
  {
   "cell_type": "code",
   "execution_count": 739,
   "metadata": {
    "scrolled": true
   },
   "outputs": [
    {
     "data": {
      "image/png": "[encoded data removed]",
      "text/plain": [
       "<matplotlib.figure.Figure at 0x1afd55c0>"
      ]
     },
     "metadata": {},
     "output_type": "display_data"
    }
   ],
   "source": [
    "p = sns.violinplot(data = titanic, x = 'sex' , y ='survived')\n",
    "p.set(title = 'Gender Distribution by Survival', \n",
    "        xlabel = 'Gender', \n",
    "        ylabel = 'Whether Survived', \n",
    "        xticklabels = ['Male', 'Female']);\n",
    "plt.show()"
   ]
  },
  {
   "cell_type": "markdown",
   "metadata": {},
   "source": [
    "## Above calculation and graph shows that female had more chance of survival"
   ]
  },
  {
   "cell_type": "markdown",
   "metadata": {},
   "source": [
    "# Question-2 : is the econmoic condition of the passengers play any role in the survival?\n",
    "## We will solve this in two parts\n",
    "## First : We check the survival related to Cabins(i.e First,Second & Third class\n",
    "## Second : We We check the survival related to the fare\n"
   ]
  },
  {
   "cell_type": "code",
   "execution_count": 388,
   "metadata": {
    "scrolled": true
   },
   "outputs": [
    {
     "data": {
      "text/html": [
       "<div>\n",
       "<style>\n",
       "    .dataframe thead tr:only-child th {\n",
       "        text-align: right;\n",
       "    }\n",
       "\n",
       "    .dataframe thead th {\n",
       "        text-align: left;\n",
       "    }\n",
       "\n",
       "    .dataframe tbody tr th {\n",
       "        vertical-align: top;\n",
       "    }\n",
       "</style>\n",
       "<table border=\"1\" class=\"dataframe\">\n",
       "  <thead>\n",
       "    <tr style=\"text-align: right;\">\n",
       "      <th></th>\n",
       "      <th>survived</th>\n",
       "      <th>pclass</th>\n",
       "      <th>sex</th>\n",
       "      <th>age</th>\n",
       "      <th>sibsp</th>\n",
       "      <th>parch</th>\n",
       "      <th>fare</th>\n",
       "      <th>embarked</th>\n",
       "      <th>class</th>\n",
       "      <th>who</th>\n",
       "      <th>adult_male</th>\n",
       "      <th>embark_town</th>\n",
       "      <th>alone</th>\n",
       "      <th>Sex_integer</th>\n",
       "    </tr>\n",
       "  </thead>\n",
       "  <tbody>\n",
       "    <tr>\n",
       "      <th>0</th>\n",
       "      <td>0</td>\n",
       "      <td>3</td>\n",
       "      <td>male</td>\n",
       "      <td>22</td>\n",
       "      <td>1</td>\n",
       "      <td>0</td>\n",
       "      <td>7.2500</td>\n",
       "      <td>S</td>\n",
       "      <td>Third</td>\n",
       "      <td>man</td>\n",
       "      <td>True</td>\n",
       "      <td>Southampton</td>\n",
       "      <td>False</td>\n",
       "      <td>1</td>\n",
       "    </tr>\n",
       "    <tr>\n",
       "      <th>1</th>\n",
       "      <td>1</td>\n",
       "      <td>1</td>\n",
       "      <td>female</td>\n",
       "      <td>38</td>\n",
       "      <td>1</td>\n",
       "      <td>0</td>\n",
       "      <td>71.2833</td>\n",
       "      <td>C</td>\n",
       "      <td>First</td>\n",
       "      <td>woman</td>\n",
       "      <td>False</td>\n",
       "      <td>Cherbourg</td>\n",
       "      <td>False</td>\n",
       "      <td>0</td>\n",
       "    </tr>\n",
       "    <tr>\n",
       "      <th>2</th>\n",
       "      <td>1</td>\n",
       "      <td>3</td>\n",
       "      <td>female</td>\n",
       "      <td>26</td>\n",
       "      <td>0</td>\n",
       "      <td>0</td>\n",
       "      <td>7.9250</td>\n",
       "      <td>S</td>\n",
       "      <td>Third</td>\n",
       "      <td>woman</td>\n",
       "      <td>False</td>\n",
       "      <td>Southampton</td>\n",
       "      <td>True</td>\n",
       "      <td>0</td>\n",
       "    </tr>\n",
       "    <tr>\n",
       "      <th>3</th>\n",
       "      <td>1</td>\n",
       "      <td>1</td>\n",
       "      <td>female</td>\n",
       "      <td>35</td>\n",
       "      <td>1</td>\n",
       "      <td>0</td>\n",
       "      <td>53.1000</td>\n",
       "      <td>S</td>\n",
       "      <td>First</td>\n",
       "      <td>woman</td>\n",
       "      <td>False</td>\n",
       "      <td>Southampton</td>\n",
       "      <td>False</td>\n",
       "      <td>0</td>\n",
       "    </tr>\n",
       "    <tr>\n",
       "      <th>4</th>\n",
       "      <td>0</td>\n",
       "      <td>3</td>\n",
       "      <td>male</td>\n",
       "      <td>35</td>\n",
       "      <td>0</td>\n",
       "      <td>0</td>\n",
       "      <td>8.0500</td>\n",
       "      <td>S</td>\n",
       "      <td>Third</td>\n",
       "      <td>man</td>\n",
       "      <td>True</td>\n",
       "      <td>Southampton</td>\n",
       "      <td>True</td>\n",
       "      <td>1</td>\n",
       "    </tr>\n",
       "  </tbody>\n",
       "</table>\n",
       "</div>"
      ],
      "text/plain": [
       "   survived  pclass     sex  age  sibsp  parch     fare embarked  class  \\\n",
       "0         0       3    male   22      1      0   7.2500        S  Third   \n",
       "1         1       1  female   38      1      0  71.2833        C  First   \n",
       "2         1       3  female   26      0      0   7.9250        S  Third   \n",
       "3         1       1  female   35      1      0  53.1000        S  First   \n",
       "4         0       3    male   35      0      0   8.0500        S  Third   \n",
       "\n",
       "     who  adult_male  embark_town  alone  Sex_integer  \n",
       "0    man        True  Southampton  False            1  \n",
       "1  woman       False    Cherbourg  False            0  \n",
       "2  woman       False  Southampton   True            0  \n",
       "3  woman       False  Southampton  False            0  \n",
       "4    man        True  Southampton   True            1  "
      ]
     },
     "execution_count": 388,
     "metadata": {},
     "output_type": "execute_result"
    }
   ],
   "source": [
    "titanic.head()"
   ]
  },
  {
   "cell_type": "code",
   "execution_count": 749,
   "metadata": {
    "collapsed": true
   },
   "outputs": [],
   "source": [
    "def percentage_survival_by_two_factors(data,factor1,factor2):\n",
    "    \n",
    "    return data.pivot_table('survived',factor1,factor2)*100\n",
    " "
   ]
  },
  {
   "cell_type": "code",
   "execution_count": 750,
   "metadata": {
    "scrolled": false
   },
   "outputs": [
    {
     "data": {
      "text/html": [
       "<div>\n",
       "<style>\n",
       "    .dataframe thead tr:only-child th {\n",
       "        text-align: right;\n",
       "    }\n",
       "\n",
       "    .dataframe thead th {\n",
       "        text-align: left;\n",
       "    }\n",
       "\n",
       "    .dataframe tbody tr th {\n",
       "        vertical-align: top;\n",
       "    }\n",
       "</style>\n",
       "<table border=\"1\" class=\"dataframe\">\n",
       "  <thead>\n",
       "    <tr style=\"text-align: right;\">\n",
       "      <th>sex</th>\n",
       "      <th>female</th>\n",
       "      <th>male</th>\n",
       "    </tr>\n",
       "    <tr>\n",
       "      <th>class</th>\n",
       "      <th></th>\n",
       "      <th></th>\n",
       "    </tr>\n",
       "  </thead>\n",
       "  <tbody>\n",
       "    <tr>\n",
       "      <th>First</th>\n",
       "      <td>96.808511</td>\n",
       "      <td>36.885246</td>\n",
       "    </tr>\n",
       "    <tr>\n",
       "      <th>Second</th>\n",
       "      <td>92.105263</td>\n",
       "      <td>15.740741</td>\n",
       "    </tr>\n",
       "    <tr>\n",
       "      <th>Third</th>\n",
       "      <td>50.000000</td>\n",
       "      <td>13.544669</td>\n",
       "    </tr>\n",
       "  </tbody>\n",
       "</table>\n",
       "</div>"
      ],
      "text/plain": [
       "sex        female       male\n",
       "class                       \n",
       "First   96.808511  36.885246\n",
       "Second  92.105263  15.740741\n",
       "Third   50.000000  13.544669"
      ]
     },
     "execution_count": 750,
     "metadata": {},
     "output_type": "execute_result"
    }
   ],
   "source": [
    "# finding survival percentage between class and gender\n",
    "survival_class_gender=percentage_survival_by_two_factors(titanic,'class','sex')\n",
    "survival_class_gender"
   ]
  },
  {
   "cell_type": "markdown",
   "metadata": {},
   "source": [
    "** We see that 96% of female and 35% of male survived compared to 50% and 13% respectively in the third class**"
   ]
  },
  {
   "cell_type": "code",
   "execution_count": 778,
   "metadata": {
    "scrolled": true
   },
   "outputs": [
    {
     "data": {
      "image/png": "[encoded data removed]",
      "text/plain": [
       "<matplotlib.figure.Figure at 0x2af1fe10>"
      ]
     },
     "metadata": {},
     "output_type": "display_data"
    }
   ],
   "source": [
    "g=sns.factorplot(x='sex',\n",
    "                y='survived',hue='pclass' , kind='bar',data=titanic)\n",
    "# Fix up the labels\n",
    "g.set(xlabel='gender',ylabel='survived', title='Gender, Class and Survival'\n",
    ")\n",
    "\n",
    "plt.show()"
   ]
  },
  {
   "cell_type": "code",
   "execution_count": 392,
   "metadata": {
    "scrolled": true
   },
   "outputs": [
    {
     "data": {
      "image/png": "[encoded data removed]",
      "text/plain": [
       "<matplotlib.figure.Figure at 0x1f2b4940>"
      ]
     },
     "metadata": {},
     "output_type": "display_data"
    }
   ],
   "source": [
    "def sns_lmplot(x,y,data):\n",
    "    sns.lmplot(x,y,data)\n",
    "    return plt.show()\n",
    "sns_lmplot(x='pclass',y='survived',data=titanic)"
   ]
  },
  {
   "cell_type": "code",
   "execution_count": 393,
   "metadata": {
    "scrolled": false
   },
   "outputs": [
    {
     "data": {
      "text/plain": [
       "<seaborn.axisgrid.FacetGrid at 0x1df92048>"
      ]
     },
     "execution_count": 393,
     "metadata": {},
     "output_type": "execute_result"
    },
    {
     "data": {
      "image/png": "[encoded data removed]",
      "text/plain": [
       "<matplotlib.figure.Figure at 0x1c4e3048>"
      ]
     },
     "metadata": {},
     "output_type": "display_data"
    }
   ],
   "source": [
    "sns.factorplot('pclass','survived',data=titanic)\n"
   ]
  },
  {
   "cell_type": "markdown",
   "metadata": {},
   "source": [
    "** Above plot and calculations shows that First Class had more chance of survival compared to Third Class.After First Class, the Second Class had more chance of survival.Third class had the least chance of survival**"
   ]
  },
  {
   "cell_type": "markdown",
   "metadata": {},
   "source": [
    "Both Male and Female have higher chance of survival in the upper class as the data shows ."
   ]
  },
  {
   "cell_type": "markdown",
   "metadata": {},
   "source": [
    "All bove plots shows that Higher Cabin class has more chance of survival"
   ]
  },
  {
   "cell_type": "markdown",
   "metadata": {},
   "source": [
    "## Second :Now we check the survival with the fares"
   ]
  },
  {
   "cell_type": "code",
   "execution_count": 396,
   "metadata": {
    "scrolled": true
   },
   "outputs": [
    {
     "data": {
      "image/png": "[encoded data removed]",
      "text/plain": [
       "<matplotlib.figure.Figure at 0x10dd0470>"
      ]
     },
     "metadata": {},
     "output_type": "display_data"
    }
   ],
   "source": [
    "fare = pd.qcut(titanic['fare'], 4)\n",
    "tt=titanic.pivot_table('survived',['sex',fare])\n",
    "tt.plot(kind='bar',figsize=(15,10))\n",
    "plt.ylabel('survived')\n",
    "plt.show()"
   ]
  },
  {
   "cell_type": "markdown",
   "metadata": {},
   "source": [
    "Above graph shows that people paying higher fare had more survival chance.This is because they were in Upper Class.We already showed that upper class had more chances of survival"
   ]
  },
  {
   "cell_type": "markdown",
   "metadata": {},
   "source": [
    "** I will divide age in two groups i.e 0-18 and 18-80 for females and males **"
   ]
  },
  {
   "cell_type": "code",
   "execution_count": 397,
   "metadata": {},
   "outputs": [
    {
     "data": {
      "text/html": [
       "<div>\n",
       "<style>\n",
       "    .dataframe thead tr:only-child th {\n",
       "        text-align: right;\n",
       "    }\n",
       "\n",
       "    .dataframe thead th {\n",
       "        text-align: left;\n",
       "    }\n",
       "\n",
       "    .dataframe tbody tr th {\n",
       "        vertical-align: top;\n",
       "    }\n",
       "</style>\n",
       "<table border=\"1\" class=\"dataframe\">\n",
       "  <thead>\n",
       "    <tr style=\"text-align: right;\">\n",
       "      <th></th>\n",
       "      <th>class</th>\n",
       "      <th>First</th>\n",
       "      <th>Second</th>\n",
       "      <th>Third</th>\n",
       "    </tr>\n",
       "    <tr>\n",
       "      <th>sex</th>\n",
       "      <th>age</th>\n",
       "      <th></th>\n",
       "      <th></th>\n",
       "      <th></th>\n",
       "    </tr>\n",
       "  </thead>\n",
       "  <tbody>\n",
       "    <tr>\n",
       "      <th rowspan=\"2\" valign=\"top\">female</th>\n",
       "      <th>(0, 18]</th>\n",
       "      <td>0.909091</td>\n",
       "      <td>1.000000</td>\n",
       "      <td>0.487805</td>\n",
       "    </tr>\n",
       "    <tr>\n",
       "      <th>(18, 80]</th>\n",
       "      <td>0.975904</td>\n",
       "      <td>0.903226</td>\n",
       "      <td>0.495050</td>\n",
       "    </tr>\n",
       "    <tr>\n",
       "      <th rowspan=\"2\" valign=\"top\">male</th>\n",
       "      <th>(0, 18]</th>\n",
       "      <td>0.750000</td>\n",
       "      <td>0.500000</td>\n",
       "      <td>0.200000</td>\n",
       "    </tr>\n",
       "    <tr>\n",
       "      <th>(18, 80]</th>\n",
       "      <td>0.350427</td>\n",
       "      <td>0.086022</td>\n",
       "      <td>0.121622</td>\n",
       "    </tr>\n",
       "  </tbody>\n",
       "</table>\n",
       "</div>"
      ],
      "text/plain": [
       "class               First    Second     Third\n",
       "sex    age                                   \n",
       "female (0, 18]   0.909091  1.000000  0.487805\n",
       "       (18, 80]  0.975904  0.903226  0.495050\n",
       "male   (0, 18]   0.750000  0.500000  0.200000\n",
       "       (18, 80]  0.350427  0.086022  0.121622"
      ]
     },
     "execution_count": 397,
     "metadata": {},
     "output_type": "execute_result"
    }
   ],
   "source": [
    "age = pd.cut(titanic['age'], [0, 18, 80])\n",
    "fare = pd.qcut(titanic['fare'], 2)\n",
    "titanic_fare=titanic.pivot_table('survived', ['sex', age], 'class',aggfunc='mean')\n",
    "titanic_fare"
   ]
  },
  {
   "cell_type": "code",
   "execution_count": 398,
   "metadata": {
    "scrolled": false
   },
   "outputs": [
    {
     "data": {
      "text/plain": [
       "<matplotlib.text.Text at 0x1b81c588>"
      ]
     },
     "execution_count": 398,
     "metadata": {},
     "output_type": "execute_result"
    },
    {
     "data": {
      "image/png": "[encoded data removed]",
      "text/plain": [
       "<matplotlib.figure.Figure at 0x1c6b6f60>"
      ]
     },
     "metadata": {},
     "output_type": "display_data"
    }
   ],
   "source": [
    "titanic_fare.plot(kind='bar',figsize=(15,10))\n",
    "plt.ylabel('survived')"
   ]
  },
  {
   "cell_type": "markdown",
   "metadata": {},
   "source": [
    "We see that the chances for survival in Class-3 is lower for all age and sex groups except for males between 18 and 80 years where Class-2 survival is higher than class-3\n",
    "Men of all age groups have high survival in upper class\n",
    "Women of "
   ]
  },
  {
   "cell_type": "markdown",
   "metadata": {},
   "source": [
    "** The above graph again shows that first class had more chance of survival in all the above age groups ** "
   ]
  },
  {
   "cell_type": "markdown",
   "metadata": {},
   "source": [
    "# Which age group has more survival chance?"
   ]
  },
  {
   "cell_type": "code",
   "execution_count": 492,
   "metadata": {
    "scrolled": true
   },
   "outputs": [
    {
     "data": {
      "text/html": [
       "<div>\n",
       "<style>\n",
       "    .dataframe thead tr:only-child th {\n",
       "        text-align: right;\n",
       "    }\n",
       "\n",
       "    .dataframe thead th {\n",
       "        text-align: left;\n",
       "    }\n",
       "\n",
       "    .dataframe tbody tr th {\n",
       "        vertical-align: top;\n",
       "    }\n",
       "</style>\n",
       "<table border=\"1\" class=\"dataframe\">\n",
       "  <thead>\n",
       "    <tr style=\"text-align: right;\">\n",
       "      <th></th>\n",
       "      <th></th>\n",
       "      <th>survived</th>\n",
       "    </tr>\n",
       "    <tr>\n",
       "      <th>sex</th>\n",
       "      <th>age</th>\n",
       "      <th></th>\n",
       "    </tr>\n",
       "  </thead>\n",
       "  <tbody>\n",
       "    <tr>\n",
       "      <th rowspan=\"4\" valign=\"top\">female</th>\n",
       "      <th>(0, 20]</th>\n",
       "      <td>68.000000</td>\n",
       "    </tr>\n",
       "    <tr>\n",
       "      <th>(20, 40]</th>\n",
       "      <td>75.661376</td>\n",
       "    </tr>\n",
       "    <tr>\n",
       "      <th>(40, 60]</th>\n",
       "      <td>75.555556</td>\n",
       "    </tr>\n",
       "    <tr>\n",
       "      <th>(60, 81]</th>\n",
       "      <td>100.000000</td>\n",
       "    </tr>\n",
       "    <tr>\n",
       "      <th rowspan=\"4\" valign=\"top\">male</th>\n",
       "      <th>(0, 20]</th>\n",
       "      <td>24.489796</td>\n",
       "    </tr>\n",
       "    <tr>\n",
       "      <th>(20, 40]</th>\n",
       "      <td>16.577540</td>\n",
       "    </tr>\n",
       "    <tr>\n",
       "      <th>(40, 60]</th>\n",
       "      <td>19.753086</td>\n",
       "    </tr>\n",
       "    <tr>\n",
       "      <th>(60, 81]</th>\n",
       "      <td>10.526316</td>\n",
       "    </tr>\n",
       "  </tbody>\n",
       "</table>\n",
       "</div>"
      ],
      "text/plain": [
       "                   survived\n",
       "sex    age                 \n",
       "female (0, 20]    68.000000\n",
       "       (20, 40]   75.661376\n",
       "       (40, 60]   75.555556\n",
       "       (60, 81]  100.000000\n",
       "male   (0, 20]    24.489796\n",
       "       (20, 40]   16.577540\n",
       "       (40, 60]   19.753086\n",
       "       (60, 81]   10.526316"
      ]
     },
     "execution_count": 492,
     "metadata": {},
     "output_type": "execute_result"
    }
   ],
   "source": [
    "age_groups = pd.cut(titanic['age'], [0,20,40,60,81])\n",
    "survival_by_age_gender=titanic.pivot_table('survived', ['sex', age_groups])*100\n",
    "survival_by_age_gender"
   ]
  },
  {
   "cell_type": "code",
   "execution_count": 494,
   "metadata": {
    "scrolled": true
   },
   "outputs": [
    {
     "data": {
      "text/html": [
       "<div>\n",
       "<style>\n",
       "    .dataframe thead tr:only-child th {\n",
       "        text-align: right;\n",
       "    }\n",
       "\n",
       "    .dataframe thead th {\n",
       "        text-align: left;\n",
       "    }\n",
       "\n",
       "    .dataframe tbody tr th {\n",
       "        vertical-align: top;\n",
       "    }\n",
       "</style>\n",
       "<table border=\"1\" class=\"dataframe\">\n",
       "  <thead>\n",
       "    <tr style=\"text-align: right;\">\n",
       "      <th></th>\n",
       "      <th>survived</th>\n",
       "    </tr>\n",
       "    <tr>\n",
       "      <th>age</th>\n",
       "      <th></th>\n",
       "    </tr>\n",
       "  </thead>\n",
       "  <tbody>\n",
       "    <tr>\n",
       "      <th>(0, 20]</th>\n",
       "      <td>43.352601</td>\n",
       "    </tr>\n",
       "    <tr>\n",
       "      <th>(20, 40]</th>\n",
       "      <td>36.412078</td>\n",
       "    </tr>\n",
       "    <tr>\n",
       "      <th>(40, 60]</th>\n",
       "      <td>39.682540</td>\n",
       "    </tr>\n",
       "    <tr>\n",
       "      <th>(60, 81]</th>\n",
       "      <td>22.727273</td>\n",
       "    </tr>\n",
       "  </tbody>\n",
       "</table>\n",
       "</div>"
      ],
      "text/plain": [
       "           survived\n",
       "age                \n",
       "(0, 20]   43.352601\n",
       "(20, 40]  36.412078\n",
       "(40, 60]  39.682540\n",
       "(60, 81]  22.727273"
      ]
     },
     "execution_count": 494,
     "metadata": {},
     "output_type": "execute_result"
    }
   ],
   "source": [
    "survival_by_age_total=titanic.pivot_table('survived', age_groups)*100\n",
    "survival_by_age_total"
   ]
  },
  {
   "cell_type": "code",
   "execution_count": 503,
   "metadata": {},
   "outputs": [
    {
     "data": {
      "image/png": "[encoded data removed]",
      "text/plain": [
       "<matplotlib.figure.Figure at 0x2b533940>"
      ]
     },
     "metadata": {},
     "output_type": "display_data"
    }
   ],
   "source": [
    "age_groups = pd.cut(titanic['age'], [0,20,40,60,81])\n",
    "titanic.groupby(age_groups).size().plot(kind='bar',stacked=True)\n",
    "plt.title(\"Distribution of Age Groups\",fontsize=14)\n",
    "plt.ylabel('Count')\n",
    "plt.xlabel('Age Group');"
   ]
  },
  {
   "cell_type": "code",
   "execution_count": 501,
   "metadata": {
    "scrolled": true
   },
   "outputs": [
    {
     "data": {
      "image/png": "[encoded data removed]",
      "text/plain": [
       "<matplotlib.figure.Figure at 0x1dd28ef0>"
      ]
     },
     "metadata": {},
     "output_type": "display_data"
    }
   ],
   "source": [
    "p = sns.violinplot(data = titanic, x = 'survived', y = 'age')\n",
    "p.set(title = 'Survival by Age', \n",
    "        xlabel = 'Survival', \n",
    "        ylabel = 'Age Distribution', \n",
    "        xticklabels = ['Died', 'Survived']);\n",
    "plt.show()"
   ]
  },
  {
   "cell_type": "markdown",
   "metadata": {},
   "source": [
    "** Above observations show that age group between 20 and 40 has more chance of survival **"
   ]
  },
  {
   "cell_type": "markdown",
   "metadata": {},
   "source": [
    "# Question : What is the survival chance for lonely passengers?"
   ]
  },
  {
   "cell_type": "markdown",
   "metadata": {},
   "source": [
    "sibsp: Number of Siblings/Spouses Aboard\n",
    "\n",
    "parch: Number of Parents/Children Aboard"
   ]
  },
  {
   "cell_type": "code",
   "execution_count": 806,
   "metadata": {
    "scrolled": true
   },
   "outputs": [
    {
     "data": {
      "text/html": [
       "<div>\n",
       "<style>\n",
       "    .dataframe thead tr:only-child th {\n",
       "        text-align: right;\n",
       "    }\n",
       "\n",
       "    .dataframe thead th {\n",
       "        text-align: left;\n",
       "    }\n",
       "\n",
       "    .dataframe tbody tr th {\n",
       "        vertical-align: top;\n",
       "    }\n",
       "</style>\n",
       "<table border=\"1\" class=\"dataframe\">\n",
       "  <thead>\n",
       "    <tr style=\"text-align: right;\">\n",
       "      <th></th>\n",
       "      <th>survived</th>\n",
       "    </tr>\n",
       "    <tr>\n",
       "      <th>alone</th>\n",
       "      <th></th>\n",
       "    </tr>\n",
       "  </thead>\n",
       "  <tbody>\n",
       "    <tr>\n",
       "      <th>False</th>\n",
       "      <td>354</td>\n",
       "    </tr>\n",
       "    <tr>\n",
       "      <th>True</th>\n",
       "      <td>537</td>\n",
       "    </tr>\n",
       "  </tbody>\n",
       "</table>\n",
       "</div>"
      ],
      "text/plain": [
       "       survived\n",
       "alone          \n",
       "False       354\n",
       "True        537"
      ]
     },
     "execution_count": 806,
     "metadata": {},
     "output_type": "execute_result"
    }
   ],
   "source": [
    "titanic.pivot_table('survived' ,'alone' ,aggfunc='count')"
   ]
  },
  {
   "cell_type": "markdown",
   "metadata": {},
   "source": [
    "** So majority of passengers with a companion survived**"
   ]
  },
  {
   "cell_type": "code",
   "execution_count": 804,
   "metadata": {
    "scrolled": false
   },
   "outputs": [
    {
     "data": {
      "image/png": "[encoded data removed]",
      "text/plain": [
       "<matplotlib.figure.Figure at 0x2a9827b8>"
      ]
     },
     "metadata": {},
     "output_type": "display_data"
    }
   ],
   "source": [
    "ax = sns.violinplot(x=\"alone\", y=\"survived\", data=titanic)"
   ]
  },
  {
   "cell_type": "markdown",
   "metadata": {},
   "source": [
    "** Above graph shows that Lonely passengers had less chance of survival**"
   ]
  },
  {
   "cell_type": "markdown",
   "metadata": {},
   "source": [
    "# Question : What is survival chance for children without parents?"
   ]
  },
  {
   "cell_type": "code",
   "execution_count": 809,
   "metadata": {
    "collapsed": true
   },
   "outputs": [],
   "source": [
    "titanic['child']=np.where(titanic.who=='child',1,0)\n",
    "titanic['parents']=np.where(titanic.parch!=0,1,0)"
   ]
  },
  {
   "cell_type": "code",
   "execution_count": 816,
   "metadata": {
    "scrolled": true
   },
   "outputs": [
    {
     "data": {
      "image/png": "[encoded data removed]",
      "text/plain": [
       "<matplotlib.figure.Figure at 0x1c0c24e0>"
      ]
     },
     "metadata": {},
     "output_type": "display_data"
    }
   ],
   "source": [
    "# Draw a nested barplot to show survival for class and sex\n",
    "g = sns.factorplot(x=\"child\", y=\"survived\", hue=\"parents\", data=titanic,\n",
    "                   size=6, kind=\"bar\", palette=\"muted\",\n",
    "                   )"
   ]
  },
  {
   "cell_type": "markdown",
   "metadata": {},
   "source": [
    "** The above graph shows that children with parents had more chance of survival compared to children without parents or with nannies **"
   ]
  },
  {
   "cell_type": "markdown",
   "metadata": {},
   "source": [
    "** Above calculations shows that lonely passengers had less chance of survival **"
   ]
  },
  {
   "cell_type": "markdown",
   "metadata": {},
   "source": [
    "# Conclusions\n",
    "\n",
    "## 1-Females had more survival chance than the male\n",
    "## 2-First class passengers had more survival chance than the lower classes (economic factor)\n",
    "## 3-More passengers who paid higer fares survived (also economic factor)\n",
    "## 4-Age group between 20 and 40 had highest surival chance\n",
    "## 5-Lonely passengers had less survival chance than those travelling with companions\n",
    "## 6-More children died who were travelling without parents \n"
   ]
  },
  {
   "cell_type": "markdown",
   "metadata": {
    "collapsed": true
   },
   "source": [
    "## references:\n",
    "** https://www.oreilly.com/learning/pivot-tables **\n",
    "\n",
    "** https://elitedatascience.com/python-seaborn-tutorial\n",
    " \n",
    "** http://nbviewer.jupyter.org/github/jvns/pandas-cookbook/tree/master/cookbook/\n",
    " \n",
    "** https://www.shanelynn.ie/select-pandas-dataframe-rows-and-columns-using-iloc-loc-and-ix/ **\n",
    " \n",
    " ** http://pbpython.com/pandas-pivot-table-explained.html **\n",
    " ** https://www.shanelynn.ie/select-pandas-dataframe-rows-and-columns-using-iloc-loc-and-ix/ **\n",
    "                "
   ]
  }
 ],
 "metadata": {
  "kernelspec": {
   "display_name": "Python 3",
   "language": "python",
   "name": "python3"
  },
  "language_info": {
   "codemirror_mode": {
    "name": "ipython",
    "version": 3
   },
   "file_extension": ".py",
   "mimetype": "text/x-python",
   "name": "python",
   "nbconvert_exporter": "python",
   "pygments_lexer": "ipython3",
   "version": "3.6.1"
  }
 },
 "nbformat": 4,
 "nbformat_minor": 2
}
